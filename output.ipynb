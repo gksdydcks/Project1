{
  "cells": [
    {
      "cell_type": "markdown",
      "metadata": {
        "id": "view-in-github",
        "colab_type": "text"
      },
      "source": [
        "<a href=\"https://colab.research.google.com/github/gksdydcks/Ai/blob/main/output.ipynb\" target=\"_parent\"><img src=\"https://colab.research.google.com/assets/colab-badge.svg\" alt=\"Open In Colab\"/></a>"
      ]
    },
    {
      "cell_type": "code",
      "execution_count": null,
      "metadata": {
        "id": "sWaAs_gBemb9"
      },
      "outputs": [],
      "source": [
        "import os\n",
        "import json\n",
        "import csv"
      ]
    },
    {
      "cell_type": "code",
      "execution_count": null,
      "metadata": {
        "id": "1_yNW34pemcB"
      },
      "outputs": [],
      "source": [
        "# 특정 폴더의 모든 파일 가져오기\n",
        "def get_all_files(directory):\n",
        "    all_files = []\n",
        "    for root, _, files in os.walk(directory):  # 하위 디렉토리 포함 탐색\n",
        "        for file in files:\n",
        "            all_files.append(os.path.join(root, file))  # 전체 경로 추가\n",
        "    return all_files"
      ]
    },
    {
      "cell_type": "code",
      "execution_count": null,
      "metadata": {
        "id": "G00T1HQaemcC"
      },
      "outputs": [],
      "source": [
        "# 외관 디렉토리 경로\n",
        "# 여기에 실제 디렉토리 경로 입력\n",
        "fender_ed_source_directory = r\"D:\\data\\data\\source_data\\fender\\Exterior_damage\"\n",
        "fender_source_ed_files = get_all_files(fender_ed_source_directory)\n",
        "# 여기에 실제 디렉토리 경로 입력\n",
        "fender_ed_label_directory = r\"D:\\data\\data\\label_data\\fender\\Exterior_damage\"\n",
        "fender_source_ed_labels = get_all_files(fender_ed_label_directory)\n",
        "\n",
        "# 결과 CSV 파일 경로\n",
        "fender_ed_data = r\"D:/data/data/output/fender/fender_ed_data.csv\"\n",
        "\n",
        "# 함수 실행\n",
        "data_info_to_csv(fender_source_ed_labels,\n",
        "                 fender_source_ed_files, fender_ed_data)"
      ]
    },
    {
      "cell_type": "markdown",
      "metadata": {
        "id": "d1BlJBldemcC"
      },
      "source": [
        "파일수정"
      ]
    },
    {
      "cell_type": "code",
      "execution_count": null,
      "metadata": {
        "id": "H5mq_MiYemcE"
      },
      "outputs": [],
      "source": [
        "def data_info_to_csv(directory1, directory2, output_csv):\n",
        "    global train_json_dataset\n",
        "    train_json_dataset = []\n",
        "\n",
        "    # JSON 파일에서 'quality'를 숫자로 변환하는 매핑\n",
        "    quality_to_label = {\"불량품\": 0, \"양품\": 1}\n",
        "\n",
        "    # 이미지 파일 이름과 경로 매핑\n",
        "    image_name_to_path = {os.path.basename(path): path for path in directory2}\n",
        "\n",
        "    for json_file in directory1:\n",
        "        with open(json_file, 'r', encoding='utf-8-sig') as f:\n",
        "            data = json.load(f)\n",
        "\n",
        "        # JSON 파일에서 images 섹션 처리\n",
        "        image_id_to_name = {img[\"id\"]: img[\"file_name\"] for img in data.get(\"images\", [])}\n",
        "\n",
        "        for annotation in data.get(\"annotations\", []):\n",
        "            # annotation의 image_id로 file_name 가져오기\n",
        "            image_id = annotation.get(\"image_id\")\n",
        "            file_name = image_id_to_name.get(image_id)\n",
        "\n",
        "            # 이미지 파일 경로 찾기\n",
        "            path = image_name_to_path.get(file_name, \"Unknown\")\n",
        "\n",
        "            # quality, part, bbox 처리\n",
        "            quality = annotation['attributes'].get('quality')\n",
        "            part = annotation['attributes'].get('part')\n",
        "            bbox = annotation.get('bbox', [])\n",
        "            bbox_str = str(bbox) if bbox else \"[]\"\n",
        "\n",
        "            # 데이터 추가\n",
        "            train_json_dataset.append([\n",
        "                path,\n",
        "                quality_to_label.get(quality, -1),\n",
        "                part,\n",
        "                bbox_str\n",
        "            ])\n",
        "\n",
        "    # CSV로 저장\n",
        "    with open(output_csv, mode='w', newline='', encoding='utf-8') as csvfile:\n",
        "        writer = csv.writer(csvfile)\n",
        "        # 헤더 작성\n",
        "        writer.writerow([\"path\", 'quality', \"part\", \"bboxes\"])\n",
        "        # 데이터 작성\n",
        "        writer.writerows(train_json_dataset)\n"
      ]
    }
  ],
  "metadata": {
    "kernelspec": {
      "display_name": "project",
      "language": "python",
      "name": "python3"
    },
    "language_info": {
      "codemirror_mode": {
        "name": "ipython",
        "version": 3
      },
      "file_extension": ".py",
      "mimetype": "text/x-python",
      "name": "python",
      "nbconvert_exporter": "python",
      "pygments_lexer": "ipython3",
      "version": "3.12.8"
    },
    "colab": {
      "provenance": [],
      "include_colab_link": true
    }
  },
  "nbformat": 4,
  "nbformat_minor": 0
}